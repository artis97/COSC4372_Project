{
 "cells": [
  {
   "cell_type": "code",
   "execution_count": 26,
   "id": "23b14fb6",
   "metadata": {},
   "outputs": [],
   "source": [
    "import cv2\n",
    "import numpy as np\n",
    "import os\n",
    "import matplotlib.pyplot as plt\n",
    "\n",
    "train_dir = \"data\" \n",
    "\n",
    "for img in os.listdir( train_dir + \"/original_images\"):\n",
    "    img_array = cv2.imread(train_dir + \"/original_images/\" + img)\n",
    "    \n",
    "    img_array = cv2.resize(img_array, (32,32))\n",
    "    cv2.imwrite(train_dir+ \"/img/\" + img, img_array)\n",
    "    "
   ]
  },
  {
   "cell_type": "code",
   "execution_count": null,
   "id": "825e9806",
   "metadata": {},
   "outputs": [],
   "source": []
  },
  {
   "cell_type": "code",
   "execution_count": null,
   "id": "c4026d8f",
   "metadata": {},
   "outputs": [],
   "source": []
  }
 ],
 "metadata": {
  "kernelspec": {
   "display_name": "Python 3 (ipykernel)",
   "language": "python",
   "name": "python3"
  },
  "language_info": {
   "codemirror_mode": {
    "name": "ipython",
    "version": 3
   },
   "file_extension": ".py",
   "mimetype": "text/x-python",
   "name": "python",
   "nbconvert_exporter": "python",
   "pygments_lexer": "ipython3",
   "version": "3.9.13"
  }
 },
 "nbformat": 4,
 "nbformat_minor": 5
}

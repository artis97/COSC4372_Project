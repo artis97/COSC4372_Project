{
 "cells": [
  {
   "cell_type": "code",
   "execution_count": 5,
   "id": "4666a3ce",
   "metadata": {},
   "outputs": [],
   "source": [
    "from tensorflow import keras\n",
    "import numpy as np \n",
    "import cv2\n",
    "import os"
   ]
  },
  {
   "cell_type": "code",
   "execution_count": 8,
   "id": "cfd4b667",
   "metadata": {},
   "outputs": [],
   "source": [
    "image_dir = './img'\n",
    "output_dir = './out' \n",
    "\n",
    "def main(): \n",
    "    \n",
    "    image_paths = [os.path.join(image_dir, x) for x in os.listdir(image_dir)] \n",
    "    model = keras.models.load_model('models/generator.h5') \n",
    "    inputs = keras.Input((None,None,3)) \n",
    "    output = model(inputs) \n",
    "    model = keras.models.Model(inputs, output) \n",
    "    for image_path in image_paths: \n",
    "        low_res = cv2.imread(image_path, 1) \n",
    "        low_res = cv2.cvtColor(low_res, cv2.COLOR_BGR2RGB) \n",
    "        low_res = low_res / 255.0 \n",
    "        sr = model.predict(np.expand_dims(low_res, axis=0))[0] \n",
    "        sr = ((sr+1)/2.)*255\n",
    "        sr = cv2.cvtColor(sr,cv2.COLOR_RGB2BGR) \n",
    "\n",
    "        cv2.imwrite(os.path.join(output_dir, os.path.basename(image_path)), sr) "
   ]
  },
  {
   "cell_type": "code",
   "execution_count": 10,
   "id": "6fd376b9",
   "metadata": {
    "scrolled": true
   },
   "outputs": [
    {
     "name": "stdout",
     "output_type": "stream",
     "text": [
      "WARNING:tensorflow:No training configuration found in the save file, so the model was *not* compiled. Compile it manually.\n",
      "1/1 [==============================] - 1s 1s/step\n"
     ]
    }
   ],
   "source": [
    "main()"
   ]
  },
  {
   "cell_type": "code",
   "execution_count": null,
   "id": "4be5c2da",
   "metadata": {},
   "outputs": [],
   "source": []
  }
 ],
 "metadata": {
  "kernelspec": {
   "display_name": "Python 3 (ipykernel)",
   "language": "python",
   "name": "python3"
  },
  "language_info": {
   "codemirror_mode": {
    "name": "ipython",
    "version": 3
   },
   "file_extension": ".py",
   "mimetype": "text/x-python",
   "name": "python",
   "nbconvert_exporter": "python",
   "pygments_lexer": "ipython3",
   "version": "3.9.13"
  }
 },
 "nbformat": 4,
 "nbformat_minor": 5
}

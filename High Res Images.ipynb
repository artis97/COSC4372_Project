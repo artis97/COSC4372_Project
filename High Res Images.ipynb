{
 "cells": [
  {
   "cell_type": "code",
   "execution_count": 16,
   "id": "807d11b2",
   "metadata": {},
   "outputs": [],
   "source": [
    "from tensorflow import keras\n",
    "import numpy as np \n",
    "import cv2\n",
    "import os"
   ]
  },
  {
   "cell_type": "code",
   "execution_count": 17,
   "id": "e3c6e1be",
   "metadata": {},
   "outputs": [],
   "source": [
    "image_dir = 'data/img'\n",
    "output_dir = './out' \n",
    "\n",
    "def main(): \n",
    "    \n",
    "    image_paths = [os.path.join(image_dir, x) for x in os.listdir(image_dir)] \n",
    "    model = keras.models.load_model('models/generator.h5') \n",
    "    inputs = keras.Input((None,None,3)) \n",
    "    output = model(inputs) \n",
    "    model = keras.models.Model(inputs, output) \n",
    "    for image_path in image_paths: \n",
    "        low_res = cv2.imread(image_path, 1) \n",
    "        low_res = cv2.cvtColor(low_res, cv2.COLOR_BGR2RGB) \n",
    "        low_res = low_res / 255.0 \n",
    "        sr = model.predict(np.expand_dims(low_res, axis=0))[0] \n",
    "        sr = ((sr+1)/2.)*255\n",
    "        sr = cv2.cvtColor(sr,cv2.COLOR_RGB2BGR) \n",
    "\n",
    "        cv2.imwrite(os.path.join(output_dir, os.path.basename(image_path)), sr) "
   ]
  },
  {
   "cell_type": "code",
   "execution_count": 18,
   "id": "0d3a8cc2",
   "metadata": {
    "scrolled": true
   },
   "outputs": [
    {
     "name": "stdout",
     "output_type": "stream",
     "text": [
      "WARNING:tensorflow:No training configuration found in the save file, so the model was *not* compiled. Compile it manually.\n",
      "1/1 [==============================] - 2s 2s/step\n",
      "1/1 [==============================] - 0s 151ms/step\n",
      "1/1 [==============================] - 0s 151ms/step\n",
      "1/1 [==============================] - 0s 147ms/step\n",
      "1/1 [==============================] - 0s 148ms/step\n",
      "1/1 [==============================] - 0s 156ms/step\n",
      "1/1 [==============================] - 0s 213ms/step\n",
      "1/1 [==============================] - 0s 161ms/step\n",
      "1/1 [==============================] - 0s 162ms/step\n",
      "1/1 [==============================] - 0s 143ms/step\n",
      "1/1 [==============================] - 0s 166ms/step\n",
      "1/1 [==============================] - 0s 143ms/step\n",
      "1/1 [==============================] - 0s 147ms/step\n",
      "1/1 [==============================] - 0s 139ms/step\n",
      "1/1 [==============================] - 0s 165ms/step\n",
      "1/1 [==============================] - 0s 143ms/step\n",
      "1/1 [==============================] - 0s 136ms/step\n",
      "1/1 [==============================] - 0s 151ms/step\n",
      "1/1 [==============================] - 0s 163ms/step\n",
      "1/1 [==============================] - 0s 149ms/step\n",
      "1/1 [==============================] - 0s 163ms/step\n"
     ]
    }
   ],
   "source": [
    "main()"
   ]
  },
  {
   "cell_type": "code",
   "execution_count": null,
   "id": "a03ee256",
   "metadata": {},
   "outputs": [],
   "source": []
  },
  {
   "cell_type": "code",
   "execution_count": null,
   "id": "14471264",
   "metadata": {},
   "outputs": [],
   "source": []
  }
 ],
 "metadata": {
  "kernelspec": {
   "display_name": "Python 3 (ipykernel)",
   "language": "python",
   "name": "python3"
  },
  "language_info": {
   "codemirror_mode": {
    "name": "ipython",
    "version": 3
   },
   "file_extension": ".py",
   "mimetype": "text/x-python",
   "name": "python",
   "nbconvert_exporter": "python",
   "pygments_lexer": "ipython3",
   "version": "3.9.13"
  }
 },
 "nbformat": 4,
 "nbformat_minor": 5
}
